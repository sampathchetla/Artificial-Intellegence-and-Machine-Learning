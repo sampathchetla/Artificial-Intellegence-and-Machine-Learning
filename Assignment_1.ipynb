{
  "nbformat": 4,
  "nbformat_minor": 0,
  "metadata": {
    "colab": {
      "name": "Assignment 1",
      "provenance": [],
      "collapsed_sections": []
    },
    "kernelspec": {
      "display_name": "Python 3",
      "name": "python3"
    }
  },
  "cells": [
    {
      "cell_type": "markdown",
      "metadata": {
        "id": "PJ8wmczEpoac",
        "colab_type": "text"
      },
      "source": [
        "#### 1.Generate the following pattern\n",
        "#### *\n",
        "#### *  *\n",
        "#### *  *  *\n",
        "#### *  *  *  *\n",
        "#### *  *  *  *  *\n"
      ]
    },
    {
      "cell_type": "code",
      "metadata": {
        "id": "FJ_9xXMEpDuE",
        "colab_type": "code",
        "outputId": "db4ac2e5-ea9c-4b30-bda9-43155e941503",
        "colab": {
          "base_uri": "https://localhost:8080/",
          "height": 50
        }
      },
      "source": [
        "n=int(input(\"enter the rows: \"))\n",
        "def pypart(n): \n",
        "    for i in range(0, n):\n",
        "        for j in range(0, i+1): \n",
        "            print(\"* \",end=\"\")\n",
        "        print(\"\\r\")\n",
        "\n",
        "pypart(n) "
      ],
      "execution_count": 4,
      "outputs": [
        {
          "output_type": "stream",
          "text": [
            "enter the rows: 5\n",
            "5\n"
          ],
          "name": "stdout"
        }
      ]
    },
    {
      "cell_type": "markdown",
      "metadata": {
        "id": "AvskNRGCpnhT",
        "colab_type": "text"
      },
      "source": [
        "### 2.Display multiplication table of K. Take k value from user\n",
        "### Ex:      7 x 1 =7\n",
        "####    \t\t7 x 2 = 14   .....\n"
      ]
    },
    {
      "cell_type": "code",
      "metadata": {
        "id": "I7qKdKxnq554",
        "colab_type": "code",
        "colab": {
          "base_uri": "https://localhost:8080/",
          "height": 202
        },
        "outputId": "1af9fa1b-2110-4577-ddea-eda551539c08"
      },
      "source": [
        "num = int(input(\"Show the multiplication table of? \"))    \n",
        "for i in range(1,11):  \n",
        "   print(num,'x',i,'=',num*i)  "
      ],
      "execution_count": 5,
      "outputs": [
        {
          "output_type": "stream",
          "text": [
            "Show the multiplication table of? 7\n",
            "7 x 1 = 7\n",
            "7 x 2 = 14\n",
            "7 x 3 = 21\n",
            "7 x 4 = 28\n",
            "7 x 5 = 35\n",
            "7 x 6 = 42\n",
            "7 x 7 = 49\n",
            "7 x 8 = 56\n",
            "7 x 9 = 63\n",
            "7 x 10 = 70\n"
          ],
          "name": "stdout"
        }
      ]
    },
    {
      "cell_type": "markdown",
      "metadata": {
        "id": "Zkpw7xl2plDP",
        "colab_type": "text"
      },
      "source": [
        "#### 3.Roots of quadratic equation\n",
        " #### \tTake the coefficients a,b,c from the user\n"
      ]
    },
    {
      "cell_type": "code",
      "metadata": {
        "id": "SMgY6JEGpExd",
        "colab_type": "code",
        "colab": {
          "base_uri": "https://localhost:8080/",
          "height": 84
        },
        "outputId": "a6caf5d1-70b7-492b-aeb8-5cb06428ea0a"
      },
      "source": [
        "import cmath\n",
        "a = int(input('Enter a: '))  \n",
        "b = int(input('Enter b: '))  \n",
        "c = int(input('Enter c: '))  \n",
        "  \n",
        "# calculate the discriminant  \n",
        "d = (b**2) - (4*a*c)  \n",
        "  \n",
        "# find two solutions  \n",
        "sol1 = (-b-cmath.sqrt(d))/(2*a)  \n",
        "sol2 = (-b+cmath.sqrt(d))/(2*a)  \n",
        "print('The solution are {0} and {1}'.format(sol1,sol2))   "
      ],
      "execution_count": 9,
      "outputs": [
        {
          "output_type": "stream",
          "text": [
            "Enter a: 2\n",
            "Enter b: 3\n",
            "Enter c: 5\n",
            "The solution are (-0.75-1.3919410907075054j) and (-0.75+1.3919410907075054j)\n"
          ],
          "name": "stdout"
        }
      ]
    },
    {
      "cell_type": "markdown",
      "metadata": {
        "id": "LYcu-MletdnC",
        "colab_type": "text"
      },
      "source": [
        "## 4.Convert a decimal number to Binary\n"
      ]
    },
    {
      "cell_type": "code",
      "metadata": {
        "id": "et5P3eWit6OG",
        "colab_type": "code",
        "colab": {
          "base_uri": "https://localhost:8080/",
          "height": 50
        },
        "outputId": "9afc1df1-655f-47c4-cac9-f81a4627c6fd"
      },
      "source": [
        "number = int(input(\"Enter any decimal number: \"))\n",
        "\n",
        "\n",
        "print(\"Equivalent Binary Number: \", bin(number))"
      ],
      "execution_count": 15,
      "outputs": [
        {
          "output_type": "stream",
          "text": [
            "Enter any decimal number: 45\n",
            "Equivalent Binary Number:  0b101101\n"
          ],
          "name": "stdout"
        }
      ]
    },
    {
      "cell_type": "markdown",
      "metadata": {
        "id": "ONgNDuhsvTcu",
        "colab_type": "text"
      },
      "source": [
        "\n",
        "##  5.Generate first N number of Fibonacci numbers. Take N value from the user\n"
      ]
    },
    {
      "cell_type": "code",
      "metadata": {
        "id": "UrDfSo35vjQ5",
        "colab_type": "code",
        "colab": {
          "base_uri": "https://localhost:8080/",
          "height": 218
        },
        "outputId": "e21ff22e-6a0a-4427-ee4f-2ccb2a9cb6ba"
      },
      "source": [
        "\n",
        "nterms = int(input(\"How many terms? \"))\n",
        "n1, n2 = 0, 1\n",
        "count = 0\n",
        "if nterms <= 0:\n",
        "   print(\"Please enter a positive integer\")\n",
        "elif nterms == 1:\n",
        "   print(\"Fibonacci sequence upto\",nterms,\":\")\n",
        "   print(n1)\n",
        "else:\n",
        "   print(\"Fibonacci sequence:\")\n",
        "   while count < nterms:\n",
        "       print(n1)\n",
        "       nth = n1 + n2\n",
        "       n1 = n2\n",
        "       n2 = nth\n",
        "       count += 1"
      ],
      "execution_count": 16,
      "outputs": [
        {
          "output_type": "stream",
          "text": [
            "How many terms? 10\n",
            "Fibonacci sequence:\n",
            "0\n",
            "1\n",
            "1\n",
            "2\n",
            "3\n",
            "5\n",
            "8\n",
            "13\n",
            "21\n",
            "34\n"
          ],
          "name": "stdout"
        }
      ]
    }
  ]
}